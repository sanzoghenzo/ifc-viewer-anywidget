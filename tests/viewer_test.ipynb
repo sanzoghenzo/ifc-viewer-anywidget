{
 "cells": [
  {
   "cell_type": "code",
   "execution_count": 1,
   "id": "initial_id",
   "metadata": {
    "ExecuteTime": {
     "end_time": "2025-05-29T14:46:53.410925Z",
     "start_time": "2025-05-29T14:46:53.044081Z"
    }
   },
   "outputs": [
    {
     "data": {
      "text/plain": [
       "'IFC4'"
      ]
     },
     "execution_count": 1,
     "metadata": {},
     "output_type": "execute_result"
    }
   ],
   "source": [
    "import ifcopenshell\n",
    "\n",
    "model = ifcopenshell.open(\"house.ifc\")\n",
    "model.schema"
   ]
  },
  {
   "cell_type": "code",
   "execution_count": 2,
   "id": "1c429b05-7ede-4053-8bb3-99cb50aa6ac8",
   "metadata": {},
   "outputs": [
    {
     "data": {
      "application/vnd.jupyter.widget-view+json": {
       "model_id": "96c2b89b360a435e85caae67389b9013",
       "version_major": 2,
       "version_minor": 1
      },
      "text/plain": [
       "IfcViewer(ifc_model=<ifcopenshell.file.file object at 0x0000013CF2C2CCE0>)"
      ]
     },
     "execution_count": 2,
     "metadata": {},
     "output_type": "execute_result"
    }
   ],
   "source": [
    "from ifc_anywidget import IfcViewer\n",
    "\n",
    "IfcViewer(ifc_model=model)"
   ]
  }
 ],
 "metadata": {
  "kernelspec": {
   "display_name": ".venv",
   "language": "python",
   "name": "python3"
  },
  "language_info": {
   "codemirror_mode": {
    "name": "ipython",
    "version": 3
   },
   "file_extension": ".py",
   "mimetype": "text/x-python",
   "name": "python",
   "nbconvert_exporter": "python",
   "pygments_lexer": "ipython3",
   "version": "3.12.9"
  }
 },
 "nbformat": 4,
 "nbformat_minor": 5
}
